{
 "cells": [
  {
   "cell_type": "code",
   "execution_count": 8,
   "metadata": {},
   "outputs": [],
   "source": [
    "import torch\n",
    "import torchvision\n",
    "import torchvision.transforms as transforms"
   ]
  },
  {
   "cell_type": "code",
   "execution_count": 9,
   "metadata": {},
   "outputs": [],
   "source": [
    "device = torch.device('cuda' if torch.cuda.is_available() else 'cpu')"
   ]
  },
  {
   "cell_type": "code",
   "execution_count": 26,
   "metadata": {},
   "outputs": [],
   "source": [
    "num_epochs = 3\n",
    "batch_size = 4\n",
    "learning_rate = 0.001"
   ]
  },
  {
   "cell_type": "code",
   "execution_count": 11,
   "metadata": {},
   "outputs": [],
   "source": [
    "train_set = torchvision.datasets.MNIST(root='./data', train=True, download=True, transform=transforms.ToTensor())\n",
    "train_loader = torch.utils.data.DataLoader(train_set, batch_size=batch_size, shuffle=True, num_workers=0)\n",
    "\n",
    "test_set = torchvision.datasets.MNIST(root='./data', train=False, download=True, transform=transforms.ToTensor())\n",
    "test_loader = torch.utils.data.DataLoader(test_set, batch_size=batch_size, shuffle=True, num_workers=0)"
   ]
  },
  {
   "cell_type": "code",
   "execution_count": 12,
   "metadata": {},
   "outputs": [
    {
     "data": {
      "image/png": "[encoded data removed]",
      "text/plain": [
       "<Figure size 432x288 with 1 Axes>"
      ]
     },
     "metadata": {
      "needs_background": "light"
     },
     "output_type": "display_data"
    },
    {
     "name": "stdout",
     "output_type": "stream",
     "text": [
      "tensor(6) tensor(1) tensor(1) tensor(6)\n"
     ]
    }
   ],
   "source": [
    "import matplotlib.pyplot as plt\n",
    "import numpy as np\n",
    "\n",
    "def imshow(img):\n",
    "    img = img / 2 + 0.5     # unnormalize\n",
    "    npimg = img.numpy()\n",
    "    plt.imshow(np.transpose(npimg, (1, 2, 0)))\n",
    "    plt.show()\n",
    "    \n",
    "dataiter = iter(train_loader)\n",
    "images, labels = dataiter.next()\n",
    "\n",
    "imshow(torchvision.utils.make_grid(images))\n",
    "# print labels\n",
    "print(' '.join('%5s' % labels[j] for j in range(4)))"
   ]
  },
  {
   "cell_type": "code",
   "execution_count": 13,
   "metadata": {},
   "outputs": [
    {
     "name": "stdout",
     "output_type": "stream",
     "text": [
      "60000\n",
      "10000\n",
      "torch.Size([1, 28, 28])\n"
     ]
    }
   ],
   "source": [
    "print(len(train_set))\n",
    "print(len(test_set))\n",
    "print(images[0].shape)"
   ]
  },
  {
   "cell_type": "code",
   "execution_count": 14,
   "metadata": {},
   "outputs": [],
   "source": [
    "import torch.nn as nn\n",
    "\n",
    "model = nn.Sequential(\n",
    "            nn.Conv2d(1, 32, 3),\n",
    "            nn.ReLU(),\n",
    "            nn.MaxPool2d(2, 2),\n",
    "            nn.Dropout(0.25),\n",
    "            nn.Flatten(),\n",
    "            nn.Linear(32 * 13 * 13, 128),\n",
    "            nn.ReLU(),\n",
    "            nn.Dropout(0.5),\n",
    "            nn.Linear(128, 10)\n",
    "        )"
   ]
  },
  {
   "cell_type": "code",
   "execution_count": 15,
   "metadata": {},
   "outputs": [],
   "source": [
    "import torch.optim as optim\n",
    "\n",
    "model.to(device)\n",
    "\n",
    "criterion = nn.CrossEntropyLoss()\n",
    "optimizer = optim.SGD(model.parameters(), lr=learning_rate, momentum=0.9)"
   ]
  },
  {
   "cell_type": "code",
   "execution_count": 27,
   "metadata": {},
   "outputs": [
    {
     "name": "stdout",
     "output_type": "stream",
     "text": [
      "Epoch [1/3], Step [1000/15000], Loss: 0.2768\n",
      "Epoch [1/3], Step [2000/15000], Loss: 0.0281\n",
      "Epoch [1/3], Step [3000/15000], Loss: 0.0365\n",
      "Epoch [1/3], Step [4000/15000], Loss: 0.0002\n",
      "Epoch [1/3], Step [5000/15000], Loss: 0.0000\n",
      "Epoch [1/3], Step [6000/15000], Loss: 0.0144\n",
      "Epoch [1/3], Step [7000/15000], Loss: 0.0182\n",
      "Epoch [1/3], Step [8000/15000], Loss: 0.2388\n",
      "Epoch [1/3], Step [9000/15000], Loss: 0.0044\n",
      "Epoch [1/3], Step [10000/15000], Loss: 0.0058\n",
      "Epoch [1/3], Step [11000/15000], Loss: 2.2715\n",
      "Epoch [1/3], Step [12000/15000], Loss: 0.0127\n",
      "Epoch [1/3], Step [13000/15000], Loss: 0.0002\n",
      "Epoch [1/3], Step [14000/15000], Loss: 0.0773\n",
      "Epoch [1/3], Step [15000/15000], Loss: 0.0060\n",
      "Epoch [2/3], Step [1000/15000], Loss: 0.0062\n",
      "Epoch [2/3], Step [2000/15000], Loss: 0.1098\n",
      "Epoch [2/3], Step [3000/15000], Loss: 0.0006\n",
      "Epoch [2/3], Step [4000/15000], Loss: 0.0001\n",
      "Epoch [2/3], Step [5000/15000], Loss: 0.0024\n",
      "Epoch [2/3], Step [6000/15000], Loss: 0.0050\n",
      "Epoch [2/3], Step [7000/15000], Loss: 0.1633\n",
      "Epoch [2/3], Step [8000/15000], Loss: 0.0038\n",
      "Epoch [2/3], Step [9000/15000], Loss: 0.2129\n",
      "Epoch [2/3], Step [10000/15000], Loss: 0.6734\n",
      "Epoch [2/3], Step [11000/15000], Loss: 0.0243\n",
      "Epoch [2/3], Step [12000/15000], Loss: 0.0340\n",
      "Epoch [2/3], Step [13000/15000], Loss: 0.0187\n",
      "Epoch [2/3], Step [14000/15000], Loss: 0.0019\n",
      "Epoch [2/3], Step [15000/15000], Loss: 0.0061\n",
      "Epoch [3/3], Step [1000/15000], Loss: 0.0036\n",
      "Epoch [3/3], Step [2000/15000], Loss: 0.1086\n",
      "Epoch [3/3], Step [3000/15000], Loss: 0.0296\n",
      "Epoch [3/3], Step [4000/15000], Loss: 0.0070\n",
      "Epoch [3/3], Step [5000/15000], Loss: 0.0031\n",
      "Epoch [3/3], Step [6000/15000], Loss: 0.0094\n",
      "Epoch [3/3], Step [7000/15000], Loss: 0.1025\n",
      "Epoch [3/3], Step [8000/15000], Loss: 0.0005\n",
      "Epoch [3/3], Step [9000/15000], Loss: 0.0164\n",
      "Epoch [3/3], Step [10000/15000], Loss: 0.0490\n",
      "Epoch [3/3], Step [11000/15000], Loss: 0.5244\n",
      "Epoch [3/3], Step [12000/15000], Loss: 0.0008\n",
      "Epoch [3/3], Step [13000/15000], Loss: 0.0003\n",
      "Epoch [3/3], Step [14000/15000], Loss: 0.0512\n",
      "Epoch [3/3], Step [15000/15000], Loss: 0.0002\n",
      "Finished Training\n"
     ]
    }
   ],
   "source": [
    "n_total_steps = len(train_loader)\n",
    "for epoch in range(num_epochs):  # loop over the dataset multiple times\n",
    "    for i, (images, labels) in enumerate(train_loader):\n",
    "        # get the inputs; data is a list of [inputs, labels]\n",
    "        images = images.to(device)\n",
    "        labels = labels.to(device)\n",
    "\n",
    "        # zero the parameter gradients\n",
    "        optimizer.zero_grad()\n",
    "\n",
    "        # forward + backward + optimize\n",
    "        outputs = model(images)\n",
    "        loss = criterion(outputs, labels)\n",
    "        loss.backward()\n",
    "        optimizer.step()\n",
    "\n",
    "        # print statistics\n",
    "        if (i+1) % 1000 == 0:\n",
    "            print (f'Epoch [{epoch+1}/{num_epochs}], Step [{i+1}/{n_total_steps}], Loss: {loss.item():.4f}')\n",
    "\n",
    "print('Finished Training')\n",
    "\n",
    "PATH = './cnn.pth'\n",
    "torch.save(model.state_dict(), PATH)"
   ]
  },
  {
   "cell_type": "code",
   "execution_count": 38,
   "metadata": {},
   "outputs": [
    {
     "data": {
      "image/png": "[encoded data removed]",
      "text/plain": [
       "<Figure size 432x288 with 1 Axes>"
      ]
     },
     "metadata": {
      "needs_background": "light"
     },
     "output_type": "display_data"
    },
    {
     "name": "stdout",
     "output_type": "stream",
     "text": [
      "GroundTruth:  tensor(1) tensor(4) tensor(7) tensor(7)\n"
     ]
    }
   ],
   "source": [
    "dataiter = iter(test_loader)\n",
    "images, labels = dataiter.next()\n",
    "\n",
    "# print images\n",
    "imshow(torchvision.utils.make_grid(images))\n",
    "print('GroundTruth: ', ' '.join('%5s' % labels[j] for j in range(4)))"
   ]
  },
  {
   "cell_type": "code",
   "execution_count": 39,
   "metadata": {},
   "outputs": [
    {
     "data": {
      "text/plain": [
       "torch.Size([4, 1, 28, 28])"
      ]
     },
     "execution_count": 39,
     "metadata": {},
     "output_type": "execute_result"
    }
   ],
   "source": [
    "images.shape"
   ]
  },
  {
   "cell_type": "code",
   "execution_count": 40,
   "metadata": {},
   "outputs": [],
   "source": [
    "images = images.to(device)\n",
    "labels = labels.to(device)\n",
    "\n",
    "outputs = model(images)"
   ]
  },
  {
   "cell_type": "code",
   "execution_count": 41,
   "metadata": {},
   "outputs": [
    {
     "name": "stdout",
     "output_type": "stream",
     "text": [
      "Predicted:  tensor(1, device='cuda:0') tensor(4, device='cuda:0') tensor(7, device='cuda:0') tensor(7, device='cuda:0')\n"
     ]
    }
   ],
   "source": [
    "_, predicted = torch.max(outputs, 1)\n",
    "\n",
    "print('Predicted: ', ' '.join('%5s' % predicted[j]\n",
    "                              for j in range(4)))"
   ]
  },
  {
   "cell_type": "code",
   "execution_count": 21,
   "metadata": {},
   "outputs": [
    {
     "name": "stdout",
     "output_type": "stream",
     "text": [
      "Accuracy of the network on the 10000 test images: 97 %\n"
     ]
    }
   ],
   "source": [
    "correct = 0\n",
    "total = 0\n",
    "with torch.no_grad():\n",
    "    for (images, labels) in test_loader:\n",
    "        images = images.to(device)\n",
    "        labels = labels.to(device)\n",
    "        outputs = model(images)\n",
    "        _, predicted = torch.max(outputs.data, 1)\n",
    "        total += labels.size(0)\n",
    "        correct += (predicted == labels).sum().item()\n",
    "\n",
    "print(f'Accuracy of the network on the {len(test_set)} test images: %d %%' % (\n",
    "    100 * correct / total))"
   ]
  },
  {
   "cell_type": "code",
   "execution_count": 25,
   "metadata": {},
   "outputs": [],
   "source": [
    "torch.save(model, './model.pth')"
   ]
  }
 ],
 "metadata": {
  "kernelspec": {
   "display_name": "Python 3.7.3 64-bit ('base': conda)",
   "language": "python",
   "name": "python37364bitbaseconda41d0ba828c02470fbb2d3403982a99a2"
  },
  "language_info": {
   "codemirror_mode": {
    "name": "ipython",
    "version": 3
   },
   "file_extension": ".py",
   "mimetype": "text/x-python",
   "name": "python",
   "nbconvert_exporter": "python",
   "pygments_lexer": "ipython3",
   "version": "3.7.3"
  }
 },
 "nbformat": 4,
 "nbformat_minor": 4
}
